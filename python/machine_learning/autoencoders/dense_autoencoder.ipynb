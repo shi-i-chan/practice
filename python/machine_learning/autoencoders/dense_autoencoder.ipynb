{
 "cells": [
  {
   "cell_type": "code",
   "execution_count": 1,
   "id": "40d25d20",
   "metadata": {},
   "outputs": [],
   "source": [
    "from autoencoders import DenseAutoencoder, limit_memory"
   ]
  },
  {
   "cell_type": "code",
   "execution_count": 2,
   "id": "7c7fabea",
   "metadata": {},
   "outputs": [],
   "source": [
    "limit_memory(gb=4)"
   ]
  },
  {
   "cell_type": "code",
   "execution_count": 3,
   "id": "9aa7504d",
   "metadata": {},
   "outputs": [
    {
     "data": {
      "text/plain": [
       "((60000, 784), (10000, 784))"
      ]
     },
     "execution_count": 3,
     "metadata": {},
     "output_type": "execute_result"
    }
   ],
   "source": [
    "import numpy as np\n",
    "from tensorflow.keras import datasets\n",
    "\n",
    "(x_train, y_train), (x_test, y_test) = datasets.mnist.load_data()\n",
    "\n",
    "x_train = x_train.reshape(x_train.shape[0], np.prod(x_train.shape[1:]))\n",
    "x_test = x_test.reshape(x_test.shape[0], np.prod(x_test.shape[1:]))\n",
    "\n",
    "x_train = x_train / 255\n",
    "x_test = x_test / 255\n",
    "\n",
    "x_train.shape, x_test.shape"
   ]
  },
  {
   "cell_type": "code",
   "execution_count": 4,
   "id": "5f35efc9",
   "metadata": {},
   "outputs": [],
   "source": [
    "dense_aut_config = {\n",
    "    'x_train_in': x_train,\n",
    "    'x_test_in': x_test,\n",
    "    'input_shape': 784,\n",
    "    'encoding_dim': 20,\n",
    "    'layers_config': {'encoder_layers': [64, 32],\n",
    "                      'decoder_layers': [32, 64]}\n",
    "}"
   ]
  },
  {
   "cell_type": "code",
   "execution_count": 5,
   "id": "8544e222",
   "metadata": {},
   "outputs": [],
   "source": [
    "dense_aut = DenseAutoencoder(**dense_aut_config).init_model()\n",
    "dense_aut.compile()"
   ]
  },
  {
   "cell_type": "code",
   "execution_count": 6,
   "id": "4c788bf5",
   "metadata": {},
   "outputs": [
    {
     "name": "stdout",
     "output_type": "stream",
     "text": [
      "Model: \"model\"\n",
      "_________________________________________________________________\n",
      " Layer (type)                Output Shape              Param #   \n",
      "=================================================================\n",
      " input_1 (InputLayer)        [(None, 784)]             0         \n",
      "                                                                 \n",
      " dense (Dense)               (None, 64)                50240     \n",
      "                                                                 \n",
      " dense_1 (Dense)             (None, 32)                2080      \n",
      "                                                                 \n",
      " dense_2 (Dense)             (None, 20)                660       \n",
      "                                                                 \n",
      " dense_3 (Dense)             (None, 32)                672       \n",
      "                                                                 \n",
      " dense_4 (Dense)             (None, 64)                2112      \n",
      "                                                                 \n",
      " dense_5 (Dense)             (None, 784)               50960     \n",
      "                                                                 \n",
      "=================================================================\n",
      "Total params: 106,724\n",
      "Trainable params: 106,724\n",
      "Non-trainable params: 0\n",
      "_________________________________________________________________\n"
     ]
    }
   ],
   "source": [
    "dense_aut.autoencoder.summary()"
   ]
  },
  {
   "cell_type": "code",
   "execution_count": 7,
   "id": "4abe95e3",
   "metadata": {},
   "outputs": [
    {
     "name": "stdout",
     "output_type": "stream",
     "text": [
      "Epoch 1/10\n",
      "469/469 [==============================] - 7s 10ms/step - loss: 0.0591 - val_loss: 0.0372\n",
      "Epoch 2/10\n",
      "469/469 [==============================] - 5s 10ms/step - loss: 0.0340 - val_loss: 0.0306\n",
      "Epoch 3/10\n",
      "469/469 [==============================] - 4s 10ms/step - loss: 0.0287 - val_loss: 0.0265\n",
      "Epoch 4/10\n",
      "469/469 [==============================] - 4s 9ms/step - loss: 0.0258 - val_loss: 0.0244\n",
      "Epoch 5/10\n",
      "469/469 [==============================] - 4s 9ms/step - loss: 0.0236 - val_loss: 0.0222\n",
      "Epoch 6/10\n",
      "469/469 [==============================] - 4s 9ms/step - loss: 0.0220 - val_loss: 0.0211\n",
      "Epoch 7/10\n",
      "469/469 [==============================] - 4s 8ms/step - loss: 0.0211 - val_loss: 0.0202\n",
      "Epoch 8/10\n",
      "469/469 [==============================] - 4s 8ms/step - loss: 0.0203 - val_loss: 0.0196\n",
      "Epoch 9/10\n",
      "469/469 [==============================] - 4s 8ms/step - loss: 0.0197 - val_loss: 0.0189\n",
      "Epoch 10/10\n",
      "469/469 [==============================] - 4s 8ms/step - loss: 0.0191 - val_loss: 0.0184\n"
     ]
    }
   ],
   "source": [
    "dense_aut.fit(10, 128)"
   ]
  },
  {
   "cell_type": "code",
   "execution_count": 8,
   "id": "a426927f",
   "metadata": {},
   "outputs": [
    {
     "name": "stdout",
     "output_type": "stream",
     "text": [
      "313/313 [==============================] - 1s 4ms/step\n"
     ]
    },
    {
     "data": {
      "image/png": "[encoded data removed]",
      "text/plain": [
       "<Figure size 2000x400 with 20 Axes>"
      ]
     },
     "metadata": {},
     "output_type": "display_data"
    }
   ],
   "source": [
    "dense_aut.show_examples()"
   ]
  },
  {
   "cell_type": "code",
   "execution_count": 9,
   "id": "2e3ab899",
   "metadata": {},
   "outputs": [],
   "source": [
    "encoder = dense_aut.get_encoder()"
   ]
  },
  {
   "cell_type": "code",
   "execution_count": 10,
   "id": "c9ca6592",
   "metadata": {},
   "outputs": [
    {
     "name": "stdout",
     "output_type": "stream",
     "text": [
      "Model: \"model_1\"\n",
      "_________________________________________________________________\n",
      " Layer (type)                Output Shape              Param #   \n",
      "=================================================================\n",
      " input_2 (InputLayer)        [(None, 784)]             0         \n",
      "                                                                 \n",
      " dense (Dense)               (None, 64)                50240     \n",
      "                                                                 \n",
      " dense_1 (Dense)             (None, 32)                2080      \n",
      "                                                                 \n",
      " dense_2 (Dense)             (None, 20)                660       \n",
      "                                                                 \n",
      "=================================================================\n",
      "Total params: 52,980\n",
      "Trainable params: 52,980\n",
      "Non-trainable params: 0\n",
      "_________________________________________________________________\n"
     ]
    }
   ],
   "source": [
    "encoder.summary()"
   ]
  },
  {
   "cell_type": "code",
   "execution_count": 11,
   "id": "c124104f",
   "metadata": {},
   "outputs": [
    {
     "name": "stdout",
     "output_type": "stream",
     "text": [
      "313/313 [==============================] - 1s 3ms/step\n"
     ]
    }
   ],
   "source": [
    "encoded = encoder.predict(x_test)"
   ]
  },
  {
   "cell_type": "code",
   "execution_count": 12,
   "id": "979bd284",
   "metadata": {},
   "outputs": [
    {
     "data": {
      "text/plain": [
       "(10000, 20)"
      ]
     },
     "execution_count": 12,
     "metadata": {},
     "output_type": "execute_result"
    }
   ],
   "source": [
    "encoded.shape"
   ]
  },
  {
   "cell_type": "code",
   "execution_count": 13,
   "id": "0e385ded",
   "metadata": {},
   "outputs": [],
   "source": [
    "decoder = dense_aut.get_decoder()"
   ]
  },
  {
   "cell_type": "code",
   "execution_count": 14,
   "id": "daacaa3c",
   "metadata": {},
   "outputs": [
    {
     "name": "stdout",
     "output_type": "stream",
     "text": [
      "Model: \"model_2\"\n",
      "_________________________________________________________________\n",
      " Layer (type)                Output Shape              Param #   \n",
      "=================================================================\n",
      " input_3 (InputLayer)        [(None, 20)]              0         \n",
      "                                                                 \n",
      " dense_3 (Dense)             (None, 32)                672       \n",
      "                                                                 \n",
      " dense_4 (Dense)             (None, 64)                2112      \n",
      "                                                                 \n",
      " dense_5 (Dense)             (None, 784)               50960     \n",
      "                                                                 \n",
      "=================================================================\n",
      "Total params: 53,744\n",
      "Trainable params: 53,744\n",
      "Non-trainable params: 0\n",
      "_________________________________________________________________\n"
     ]
    }
   ],
   "source": [
    "decoder.summary()"
   ]
  },
  {
   "cell_type": "code",
   "execution_count": 15,
   "id": "ae21432c",
   "metadata": {},
   "outputs": [
    {
     "name": "stdout",
     "output_type": "stream",
     "text": [
      "313/313 [==============================] - 1s 3ms/step\n"
     ]
    }
   ],
   "source": [
    "decoded = decoder.predict(encoded)"
   ]
  },
  {
   "cell_type": "code",
   "execution_count": 16,
   "id": "d9d020ed",
   "metadata": {},
   "outputs": [
    {
     "data": {
      "text/plain": [
       "(10000, 784)"
      ]
     },
     "execution_count": 16,
     "metadata": {},
     "output_type": "execute_result"
    }
   ],
   "source": [
    "decoded.shape"
   ]
  },
  {
   "cell_type": "code",
   "execution_count": 17,
   "id": "50300382",
   "metadata": {},
   "outputs": [
    {
     "data": {
      "image/png": "[encoded data removed]",
      "text/plain": [
       "<Figure size 640x480 with 2 Axes>"
      ]
     },
     "metadata": {},
     "output_type": "display_data"
    }
   ],
   "source": [
    "import matplotlib.pyplot as plt\n",
    "\n",
    "\n",
    "fig, axes = plt.subplots(1, 2)\n",
    "axes[0].imshow(x_test[134].reshape(28, 28))\n",
    "axes[1].imshow(decoded[134].reshape(28, 28))\n",
    "plt.show()"
   ]
  },
  {
   "cell_type": "code",
   "execution_count": null,
   "id": "5ed87ab7",
   "metadata": {},
   "outputs": [],
   "source": []
  }
 ],
 "metadata": {
  "kernelspec": {
   "display_name": "Python 3 (ipykernel)",
   "language": "python",
   "name": "python3"
  },
  "language_info": {
   "codemirror_mode": {
    "name": "ipython",
    "version": 3
   },
   "file_extension": ".py",
   "mimetype": "text/x-python",
   "name": "python",
   "nbconvert_exporter": "python",
   "pygments_lexer": "ipython3",
   "version": "3.8.16"
  }
 },
 "nbformat": 4,
 "nbformat_minor": 5
}
